{
 "cells": [
  {
   "cell_type": "markdown",
   "id": "2a4d5db8",
   "metadata": {},
   "source": [
    "# Download packages"
   ]
  },
  {
   "cell_type": "code",
   "execution_count": 1,
   "id": "e85641a1",
   "metadata": {},
   "outputs": [],
   "source": [
    "#Packages needed for the automation process\n",
    "from selenium import webdriver\n",
    "from selenium.webdriver.common.by import By\n",
    "from selenium.webdriver.common.keys import Keys\n",
    "import requests\n",
    "import bs4\n",
    "from bs4 import BeautifulSoup\n",
    "import os, random, sys, time\n",
    "from urllib.parse import urlparse\n",
    "from selenium import webdriver\n",
    "import pandas as pd\n",
    "from openpyxl import load_workbook, Workbook\n",
    "import urllib\n",
    "import numpy as np"
   ]
  },
  {
   "cell_type": "markdown",
   "id": "44704dd7",
   "metadata": {},
   "source": [
    "# Set up browser and log in"
   ]
  },
  {
   "cell_type": "code",
   "execution_count": 3,
   "id": "98c25c74",
   "metadata": {},
   "outputs": [],
   "source": [
    "#setting chromebrowser after downloading a compatible version of the same and setting a path to that .exe file\n",
    "browser = webdriver.Chrome(\"C:/Users/Admin/Automation/chromedriver.exe\")"
   ]
  },
  {
   "cell_type": "code",
   "execution_count": 18,
   "id": "4ef5a65d",
   "metadata": {},
   "outputs": [],
   "source": [
    "#Opening automation chrome browser window\n",
    "browser.get(\"https://www.linkedin.com/uas/login\")"
   ]
  },
  {
   "cell_type": "code",
   "execution_count": 19,
   "id": "0b9e0959",
   "metadata": {},
   "outputs": [],
   "source": [
    "#create a .txt file with username/emailID in the first line and password in the second\n",
    "file = open(\"C:/Users/Admin/Automation/config.txt\")\n",
    "line = file.readlines()\n",
    "username = line[0]\n",
    "password = line[1]"
   ]
  },
  {
   "cell_type": "code",
   "execution_count": 20,
   "id": "c1fd78c4",
   "metadata": {},
   "outputs": [],
   "source": [
    "#pasting the login credentials and submitting the info to log into Linkedin\n",
    "elementID = browser.find_element(by= By.ID, value=\"username\")\n",
    "elementID.send_keys(username)\n",
    "elementID = browser.find_element(by = By.ID, value=\"password\")\n",
    "elementID.send_keys(password)\n",
    "elementID.submit()"
   ]
  },
  {
   "cell_type": "markdown",
   "id": "14e27031",
   "metadata": {},
   "source": [
    "# Create DataFrame and add profiles links"
   ]
  },
  {
   "cell_type": "code",
   "execution_count": 22,
   "id": "5be54fcb",
   "metadata": {},
   "outputs": [],
   "source": [
    "#Creating a dataframe to store the info\n",
    "df = pd.DataFrame(columns=[\"Company\",\"Address\",\"Telephone\",\"Name\",\"Job Title\",\"Bio\",\"Profile_Link\"])\n",
    "err_profile = [] "
   ]
  },
  {
   "cell_type": "code",
   "execution_count": 4,
   "id": "0aa1ffe3",
   "metadata": {},
   "outputs": [],
   "source": [
    "#put all the links together and press enter to let y record it.\n",
    "profiles = input(str(\"Please enter profiles to be extracted: \"))\n",
    "profiles = profiles.split(\" \")\n",
    "profiles"
   ]
  },
  {
   "cell_type": "code",
   "execution_count": null,
   "id": "553fa510",
   "metadata": {},
   "outputs": [],
   "source": [
    "total_errs=0\n",
    "for full_link in profiles:\n",
    "    total_errs = total_errs+1\n",
    "    biodata = \"\"\n",
    "    if full_link in list(df[\"Profile_Link\"]):\n",
    "        print(\"Profile \",total_errs,\" already exists.\")\n",
    "    else:\n",
    "        browser.get(full_link)\n",
    "        SCROLL_PAUSE_TIME = 4\n",
    "        #wait to load page\n",
    "        time.sleep(SCROLL_PAUSE_TIME)\n",
    "        #Get scroll height\n",
    "        last_height = browser.execute_script(\"return document.body.scrollHeight\")\n",
    "\n",
    "        for i in range(3):\n",
    "            #scroll down to bottom\n",
    "            browser.execute_script(\"window.scrollTo(0, document.body.scrollHeight);\")\n",
    "            #Calculate new scroll height and compare with last scroll height\n",
    "            new_height = browser.execute_script(\"return document.body.scrollHeight\")\n",
    "            last_height = new_height\n",
    "        \n",
    "        soup = BeautifulSoup(browser.page_source,\"html.parser\")\n",
    "        name_div= soup.find(\"div\",{\"class\":\"ph5 pb5\"})\n",
    "        try:\n",
    "            #Other info\n",
    "            profile_name = name_div.find_all(\"h1\")[0].get_text()\n",
    "            profile_loc = name_div.find_all(\"span\", class_ = \"text-body-small inline t-black--light break-words\")[0].get_text().strip()\n",
    "            name_div2= soup.find_all(\"div\",{\"class\":\"pvs-list__outer-container\"})[1]\n",
    "            profile_jobtitle = name_div2.find_all(\"span\")[1].get_text().strip()\n",
    "            profile_company = name_div2.find_all(\"span\")[5].get_text().strip()\n",
    "\n",
    "            #Biodata\n",
    "            \n",
    "            profile_experience = full_link + \"/details/experience/\"\n",
    "            browser.get(profile_experience)\n",
    "            SCROLL_PAUSE_TIME = 4\n",
    "            #wait to load page\n",
    "            time.sleep(SCROLL_PAUSE_TIME)\n",
    "            soup = BeautifulSoup(browser.page_source,\"html.parser\")\n",
    "            \n",
    "            \n",
    "            for k in range(0,10):\n",
    "                for j in range(0,7):\n",
    "                    try:\n",
    "                        name_div3= soup.find_all(\"div\",{\"class\":\"pvs-entity pvs-entity--padded pvs-list__item--no-padding-when-nested\"})[k]\n",
    "                        biodata = biodata + \"\\n\"+(name_div3.find_all(\"span\",{\"class\":\"visually-hidden\"}))[j].get_text().strip()[0:int(np.where((name_div3.find_all(\"span\",{\"class\":\"visually-hidden\"})[j].get_text().strip().find(\"·\")-1)<0,50,(name_div3.find_all(\"span\",{\"class\":\"visually-hidden\"})[j].get_text().strip().find(\"·\")-1)))]\n",
    "                    except Exception:\n",
    "                        continue\n",
    "\n",
    "            df = df.append({\"Bio\":biodata,\"Address\":profile_loc,\"Company\":profile_company,\"Name\":profile_name,\"Job Title\":profile_jobtitle,\"Profile_Link\":full_link}, ignore_index = True)\n",
    "        except Exception:\n",
    "            err_profile.append(str(full_link))\n",
    "            print(\"ERROR! Failed to extract profile number \", total_errs,\":\",full_link)\n",
    "        SCROLL_PAUSE_TIME = 2\n",
    "        time.sleep(SCROLL_PAUSE_TIME)\n",
    "print(err_profile)"
   ]
  },
  {
   "cell_type": "markdown",
   "id": "34305b2d",
   "metadata": {},
   "source": [
    "# Saving the data"
   ]
  },
  {
   "cell_type": "code",
   "execution_count": null,
   "id": "2b9f2a17",
   "metadata": {},
   "outputs": [],
   "source": [
    "#Save the dataframe in an excel file\n",
    "df.to_excel(\"C:/Users/Admin/Automation/profiles.xlsx\")\n",
    "\n",
    "#Copy the data from one excel to another one that already has the desired format\n",
    "wb = load_workbook(\"C:/Users/Admin/Automation/profiles.xlsx\")\n",
    "wb2 = load_workbook(\"C:/Users/Admin/Automation/profiles_final.xlsx\")\n",
    "sheet1 = wb.get_sheet_by_name(\"Sheet1\")\n",
    "sheet2 = wb2.get_sheet_by_name(\"Sheet1\")\n",
    "sheet2.delete_cols(idx=1, amount = 10)\n",
    "\n",
    "wb2.save(\"C:/Users/Admin/Automation/profiles_final.xlsx\")\n",
    "\n",
    "for rownumber in range(1,sheet1.max_row+1):\n",
    "    for columnnumber in range(1,sheet1.max_column+1):\n",
    "        sheet2.cell(row=rownumber,column=columnnumber).value = sheet1.cell(row=rownumber,column=columnnumber).value\n",
    "\n",
    "wb.save(\"C:/Users/Admin/Automation/profiles.xlsx\")\n",
    "wb2.save(\"C:/Users/Admin/Automation/profiles_final.xlsx\")"
   ]
  },
  {
   "cell_type": "markdown",
   "id": "c4046666",
   "metadata": {},
   "source": [
    "# <center> ---------------------THE END--------------------- </center>"
   ]
  }
 ],
 "metadata": {
  "kernelspec": {
   "display_name": "Python 3 (ipykernel)",
   "language": "python",
   "name": "python3"
  },
  "language_info": {
   "codemirror_mode": {
    "name": "ipython",
    "version": 3
   },
   "file_extension": ".py",
   "mimetype": "text/x-python",
   "name": "python",
   "nbconvert_exporter": "python",
   "pygments_lexer": "ipython3",
   "version": "3.9.12"
  }
 },
 "nbformat": 4,
 "nbformat_minor": 5
}
